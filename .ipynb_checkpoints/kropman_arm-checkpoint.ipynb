{
 "cells": [
  {
   "cell_type": "code",
   "execution_count": 1,
   "metadata": {
    "id": "AZfHvdP2zNKu"
   },
   "outputs": [],
   "source": [
    "import pandas as pd\n",
    "import string\n",
    "import re\n",
    "import nltk\n",
    "from nltk.corpus import stopwords\n",
    "from sklearn.feature_extraction.text import CountVectorizer, TfidfVectorizer, TfidfTransformer\n",
    "import matplotlib.pyplot as plt\n",
    "import numpy as np\n",
    "from scipy.stats import lognorm\n",
    "from itertools import combinations\n",
    "from wordcloud import WordCloud\n",
    "from collections import Counter\n",
    "from sklearn.cluster import AgglomerativeClustering\n",
    "from scipy.cluster.hierarchy import dendrogram, linkage\n",
    "from sklearn.feature_extraction import text\n",
    "from nltk.stem.snowball import SnowballStemmer\n",
    "from nltk.tokenize import word_tokenize\n",
    "from itertools import permutations"
   ]
  },
  {
   "cell_type": "code",
   "execution_count": 2,
   "metadata": {
    "colab": {
     "base_uri": "https://localhost:8080/"
    },
    "id": "3twLBLCmaZ2G",
    "outputId": "f1c34f73-f018-4966-d1da-88bc788567ca"
   },
   "outputs": [
    {
     "name": "stderr",
     "output_type": "stream",
     "text": [
      "[nltk_data] Downloading package stopwords to\n",
      "[nltk_data]     C:\\Users\\kouro\\AppData\\Roaming\\nltk_data...\n",
      "[nltk_data]   Package stopwords is already up-to-date!\n",
      "[nltk_data] Downloading package punkt to\n",
      "[nltk_data]     C:\\Users\\kouro\\AppData\\Roaming\\nltk_data...\n",
      "[nltk_data]   Unzipping tokenizers\\punkt.zip.\n"
     ]
    },
    {
     "data": {
      "text/plain": [
       "True"
      ]
     },
     "execution_count": 2,
     "metadata": {},
     "output_type": "execute_result"
    }
   ],
   "source": [
    "nltk.download('stopwords')\n",
    "nltk.download('punkt')"
   ]
  },
  {
   "cell_type": "code",
   "execution_count": 3,
   "metadata": {
    "id": "57sKDVefFPTd"
   },
   "outputs": [],
   "source": [
    "def correct_types(df, column='SO_Omschrijving'):\n",
    "    \"\"\"\n",
    "    Preprocess the specified column in a DataFrame by replacing NaN values with an empty string\n",
    "    and converting non-string values to string objects.\n",
    "\n",
    "    Parameters:\n",
    "    - df (pd.DataFrame): The input DataFrame.\n",
    "    - column (str): The column to be preprocessed. Default is 'SO_Omschrijving'.\n",
    "\n",
    "    Returns:\n",
    "    - pd.DataFrame: The DataFrame with the specified column preprocessed.\n",
    "    \"\"\"\n",
    "\n",
    "    df[column] = df[column].fillna('')\n",
    "    df[column] = df[column].astype(str)\n",
    "    return df\n",
    "\n",
    "def replace_punctuation(text):\n",
    "    \"\"\"\n",
    "    Replace punctuation in the input text.\n",
    "\n",
    "    Parameters:\n",
    "    - text (str): The input text in which punctuation will be replaced.\n",
    "\n",
    "    Returns:\n",
    "    - str: The input text with punctuation replaced.\n",
    "    \"\"\"\n",
    "    # Replace \"'s\" with empty space.\n",
    "    text = text.replace(\"'s\", '')\n",
    "\n",
    "    # Create a translation table to replace '.' and \"'\" with empty space, and other punctuation with spaces.\n",
    "    translator = str.maketrans({'.': '', \"'\": '', **{p: ' ' for p in string.punctuation if p not in ['.', \"'\"]}})\n",
    "\n",
    "    cleaned_text = text.translate(translator)\n",
    "\n",
    "    return cleaned_text\n",
    "\n",
    "def remove_numerical_values(text):\n",
    "    \"\"\"\n",
    "    Remove numbers and model-related patterns from the input text.\n",
    "\n",
    "    Parameters:\n",
    "    - text (str): The input text from which numbers and model-related patterns will be removed.\n",
    "\n",
    "    Returns:\n",
    "    - str: The input text with numbers and model-related patterns removed.\n",
    "    \"\"\"\n",
    "    # Remove standalone numbers with optional floating points; such as 154, 99.31.\n",
    "    text = re.sub(r'\\b\\d+(\\.\\d+)?\\b', '', text)\n",
    "\n",
    "    # Remove ordinal numbers; such as 1e, 2ste, 3de, 4e.\n",
    "    text = re.sub(r'\\b\\d+(e|ste|de|e)\\b', '', text)\n",
    "\n",
    "    # Remove numerical quantifiers; such as 1x OH.\n",
    "    text = re.sub(r'\\b\\d+[xX]\\b', '', text)\n",
    "\n",
    "    return text\n",
    "\n",
    "def stemize(text):\n",
    "    \"\"\"\n",
    "    Perform stemming on the input text using the Dutch Snowball Stemmer.\n",
    "\n",
    "    Parameters:\n",
    "    - text (str): The input text to be stemmed.\n",
    "\n",
    "    Returns:\n",
    "    str: The stemmed text.\n",
    "\n",
    "    Example:\n",
    "    >>> stemize(\"This is an example text for stemming.\")\n",
    "    'thi is an exampl text for stem.'\n",
    "    \"\"\"\n",
    "    stemmer = SnowballStemmer(\"dutch\")\n",
    "    tokens = word_tokenize(text)\n",
    "    text = ' '.join([stemmer.stem(token) for token in tokens])\n",
    "    return text\n",
    "\n",
    "def normalize_lookups():\n",
    "    \"\"\"\n",
    "    Normalize and preprocess the global lookup lists.\n",
    "\n",
    "    This function performs the following operations on each global lookup list:\n",
    "    1. Orders lookup lists by length in descending order.\n",
    "    2. Initializes the Dutch Snowball Stemmer.\n",
    "    3. Replaces punctuations using the `replace_punctuation` function.\n",
    "    4. Removes numerical values using the `remove_numerical_values` function.\n",
    "    5. Applies stemming using the `stemize` function.\n",
    "    6. Converts the resulting list to a set.\n",
    "\n",
    "    Note: The original lookup lists are modified in-place.\n",
    "\n",
    "    Returns:\n",
    "    None\n",
    "    \"\"\"\n",
    "    # Get all lookup lists using regular expression.\n",
    "    lookup_lists = [var for var in globals() if re.match(r'^lookup_', var)]\n",
    "\n",
    "    # Initialize stemmer.\n",
    "    stemmer = SnowballStemmer(\"dutch\")\n",
    "\n",
    "    for lookup_list_name in lookup_lists:\n",
    "\n",
    "        lookup_list = globals()[lookup_list_name]\n",
    "\n",
    "        # Replace punctuations, remove numerical values, and apply stemming.\n",
    "        normalized_list = [stemize(remove_numerical_values(replace_punctuation(word))) for word in lookup_list]\n",
    "\n",
    "        # Convert to set.\n",
    "        lookup_list.clear()\n",
    "        lookup_list.extend(set(normalized_list))\n",
    "\n",
    "def group_items(description):\n",
    "    \"\"\"\n",
    "    Group items in a description based on predefined lookup lists.\n",
    "\n",
    "    Parameters:\n",
    "    - description (str): The input description to be categorized.\n",
    "\n",
    "    Returns:\n",
    "    str: The category type of the description based on predefined lookup lists.\n",
    "         If no match is found, 'Unknown' is returned.\n",
    "\n",
    "    Example:\n",
    "    >>> group_items(\"This is a description containing ventilation keywords.\")\n",
    "    'Ventilation'\n",
    "    \"\"\"\n",
    "    # Get all lookup lists using regular expression.\n",
    "    lookup_lists = [var for var in globals() if re.match(r'^lookup_', var)]\n",
    "\n",
    "    # Order lookup lists by length in descending order.\n",
    "    lookup_lists = sorted(lookup_lists, key=lambda x: len(globals()[x]), reverse=True)\n",
    "\n",
    "    for lookup_list_name in lookup_lists:\n",
    "        lookup_list = globals()[lookup_list_name]\n",
    "\n",
    "        for word in lookup_list:\n",
    "            if word in description:\n",
    "                type_name = module_names[lookup_list_name.split('_')[1]]\n",
    "                return type_name\n",
    "    return 'Unknown'"
   ]
  },
  {
   "cell_type": "code",
   "execution_count": 4,
   "metadata": {
    "id": "fbCvk4prb9LS"
   },
   "outputs": [],
   "source": [
    "lookup_ventilation = [\n",
    "    \"lbk\",\n",
    "    \"luchtbehandeling\",\n",
    "    \"luchtbehandelen\",\n",
    "    \"luchbehandeling\",\n",
    "    \"luchtbehandeling\",\n",
    "    \"ventilatiesysteem\",\n",
    "    \"ventilatie\",\n",
    "    \"luchtklep\",\n",
    "    \"stoombevochtiger\",\n",
    "    \"stoombevochtiging\",\n",
    "    \"bevochtiger\",\n",
    "    \"toevoerventilator\",\n",
    "    \"afvoerventilator\",\n",
    "    \"ventilatormotor\",\n",
    "    \"dakventilatoren\",\n",
    "    \"Dakventilator\",\n",
    "    \"Afzuiventilator\",\n",
    "    \"wiel\",\n",
    "    \"afzuigvent\",\n",
    "    \"Vsnaren\",\n",
    "    \"V snaren\",\n",
    "    \"filters\",\n",
    "    \"snaarbreuk\",\n",
    "    \"condensafvoer\",\n",
    "    \"condensor\",\n",
    "    \"filter\",\n",
    "    \"Luchtbeh\",\n",
    "    \"LBH\",\n",
    "    \"vorst\",\n",
    "    \"verwarmingsbatterij\",\n",
    "    \"stoomvochtiger\",\n",
    "    \"luchtdebiet\",\n",
    "    \"luchtzakken\",\n",
    "    \"fancoil\",\n",
    "    \"splitunit\",\n",
    "    \"fancoil\",\n",
    "    \"splitunit\",\n",
    "    \"fancoil\",\n",
    "    \"split-unit\"\n",
    "]\n",
    "\n",
    "module_names = {\n",
    "    \"complaints\": \"Complaints\",\n",
    "    \"regularMaintenance\": \"Regular Maintenance\",\n",
    "    \"faultRedemption\": \"Fault Redemption\",\n",
    "    \"domesticWater\": \"Domestic Water\",\n",
    "    \"office\": \"Office\",\n",
    "    \"waterDistribution\": \"Water Distribution\",\n",
    "    \"bms\": \"BMS\",\n",
    "    \"wkk\": \"WKK\",\n",
    "    \"elevator\": \"Elevator\",\n",
    "    \"lighting\": \"Lighting\",\n",
    "    \"heatPump\": \"Heat Pump\",\n",
    "    \"sanitary\": \"Sanitary\",\n",
    "    \"fireSafety\": \"Fire Safety\",\n",
    "    \"shading\": \"Shading\",\n",
    "    \"entrance\": \"Entrance\",\n",
    "    \"ventilation\": \"Ventilation\",\n",
    "    \"heating\": \"Heating\",\n",
    "    \"cooling\": \"Cooling\"\n",
    "}"
   ]
  },
  {
   "cell_type": "code",
   "execution_count": 6,
   "metadata": {
    "id": "NokcwycAw09U"
   },
   "outputs": [],
   "source": [
    "path = './Navision Serviceorder data.xlsx'\n",
    "\n",
    "# Read the Excel file into a DataFrame\n",
    "df_so = pd.read_excel(path)\n",
    "\n",
    "df_so.reset_index(drop=True, inplace=True)\n",
    "\n",
    "# print(df_so.info())\n",
    "\n",
    "columns_to_select = ['SO_Omschrijving']\n",
    "df_so = df_so[columns_to_select]"
   ]
  },
  {
   "cell_type": "code",
   "execution_count": 7,
   "metadata": {
    "id": "brRdDN0uZ1Kr"
   },
   "outputs": [],
   "source": [
    "# Create a copy from the original dataset.\n",
    "df_so = correct_types(df_so, column='SO_Omschrijving')\n",
    "\n",
    "# Replace punctuations.\n",
    "df_so['SO_Omschrijving'] = df_so['SO_Omschrijving'].apply(replace_punctuation)\n",
    "\n",
    "# Remove numerical values.\n",
    "df_so['SO_Omschrijving'] = df_so['SO_Omschrijving'].apply(remove_numerical_values)\n",
    "\n",
    "# Remove Dutch stop words.\n",
    "stop_words = set(stopwords.words('dutch'))\n",
    "stop_words.add('via')\n",
    "df_so['SO_Omschrijving'] = df_so['SO_Omschrijving'].apply(lambda x: ' '.join([word for word in x.split() if word.lower() not in stop_words]))\n",
    "\n",
    "# Stemize the text.\n",
    "df_so['SO_Omschrijving'] = df_so['SO_Omschrijving'].apply(stemize)"
   ]
  },
  {
   "cell_type": "code",
   "execution_count": null,
   "metadata": {
    "colab": {
     "base_uri": "https://localhost:8080/"
    },
    "id": "roD8NWc8cPyY",
    "outputId": "e46d066d-541b-4c69-8227-f84c819c4852"
   },
   "outputs": [
    {
     "name": "stdout",
     "output_type": "stream",
     "text": [
      "Complaints count: 0\n",
      "Regular Maintenance count: 0\n",
      "Fault Redemption count: 0\n",
      "Domestic Water count: 0\n",
      "Office count: 0\n",
      "Water Distribution count: 0\n",
      "BMS count: 0\n",
      "WKK count: 0\n",
      "Elevator count: 0\n",
      "Lighting count: 0\n",
      "Heat Pump count: 0\n",
      "Sanitary count: 0\n",
      "Fire Safety count: 0\n",
      "Shading count: 0\n",
      "Entrance count: 0\n",
      "Ventilation count: 533\n",
      "Heating count: 0\n",
      "Cooling count: 0\n"
     ]
    }
   ],
   "source": [
    "df_so['target'] = df_so['SO_Omschrijving'].apply(group_items)\n",
    "categorized_count = 0\n",
    "for _, value in module_names.items():\n",
    "    categorized_count = categorized_count + len(df_so[\"target\"][df_so[\"target\"] == value])\n",
    "    print(f'{value} count: {len(df_so[\"target\"][df_so[\"target\"] == value])}')"
   ]
  },
  {
   "cell_type": "code",
   "execution_count": null,
   "metadata": {
    "id": "CsMlMWX2ciiW"
   },
   "outputs": [],
   "source": [
    "df_so = df_so[df_so[\"target\"].isin([\"Ventilation\"])]"
   ]
  },
  {
   "cell_type": "code",
   "execution_count": null,
   "metadata": {
    "colab": {
     "base_uri": "https://localhost:8080/"
    },
    "id": "Fcfsu-Kfcszp",
    "outputId": "d619b4b0-0279-4c55-fa44-8a79b336bccd"
   },
   "outputs": [
    {
     "name": "stdout",
     "output_type": "stream",
     "text": [
      "[['storing', 'stoombevochtiger', 'ruimt'], ['storing', 'bevochtiger', 'lbk', 'link'], ['snaarbreuk', 'afzuigvent', 'lbk', 'recht'], ['lbk', 'recht', 'stoomomvormer', '100sb01'], ['stoomomvormer', 'lbk', 'recht'], ['rk', 'lbk', 'link', 'afzuigventilator', '100av01'], ['mer', 'ruimt', 'rk', 'lbk', 'link', 'communicatie', 'alarm'], ['snaarbreuk', 'afzuigvent', 'rk', 'lbk', 'recht'], ['storing', 'snaarbreuk', 'afzuigvent', '100pdt02'], ['snaarbreuk', 'afzuigvent'], ['lbk', 'recht', 'snaarbreuk'], ['stoomomvormer', 'rk3', 'lbk', 'link', 'storing'], ['storing', 'lbk'], ['fancoil', 'unit', 'mak', 'lawaai'], ['ventilatiesystem', 'stat', 'storing'], ['afzuigventilator', 'produktie', 'start'], ['storing', 'frequentieregelar', 'ventilatie', 'keuk'], ['luchtbehandelingsystem', 'valt', 'sted', 'storing'], ['pomp', 'storing', 'fancoil'], ['pomp', 'storing', 'fancoil'], ['ruimt', 'lbk', 'melding'], ['storing', 'stoomvormer', 'lbk'], ['ruimtetemp', 'ruimt', 'lbk', 'max', 'gr'], ['lbk', 'schakel'], ['spoed', 'storing', 'luchtbehandelingsystem'], ['koelmachin', 'luchtbehandelingskast', 'uitgevall'], ['koelmachin', 'luchtbehandelingskast', 'uitgevall'], ['ra', 'snaarbreuk', 'lbk', 'bg', 't', 'm'], ['nazien', 'lbk', 'kantor', 'verd', '1t', 'm7'], ['mp', 'storing', 'vorstthermostat'], ['ra', 'lekkag', 'lbk', 'verd', 'ruimt'], ['ra', 'klimaatklacht', 'restaurant', 'bevochtiger', 'stor'], ['ra', 'klimaatklacht', 'restaurant', 'bevochtiger', 'stor'], ['mp', 'storing', 'hygromatik', 'lucht', 'bevochtiger'], ['lbk', 'geeft', 'hog', 'urgentie', 'valt', 'reset'], ['storing', 'lbk', 'bg', 't', 'm', 'verd'], ['storing', 'lbk', 'v', 'snar', 'eraf'], ['lbk', 'komt', 'diver', 'mal', 'achter', 'elkar', 'storing'], ['mogelijk', 'snaarbreuk', 'luchtbehandel', 'ruimt'], ['spoed', 'verwarm', 'lbk', 'bg', 'tm', 'verd', 'werkt'], ['kapot', 'v', 'snar', 'lbk', 'luchtbehandel', 'centraleha'], ['lbk', 'doet', 'maakt', 'allen', 'brommend', 'geluid'], ['cv', 'afd', 'puza', 'snaarbreuk', 'lbk', 'centr', 'hal'], ['storing', 'urgent', 'lbk', 'foutcodes'], ['lbk', 'tempratur', 'schommelt', 'hel', 'erg'], ['vervang', 'ventilatormotor', 'lg', 'unit'], ['vervang', 'ventilatormotor', 'lg', 'unit'], ['lbk', 'blaast', 'koud', 'lucht'], ['ernstig', 'lekkag', 'condensor', 'airco'], ['ra', 'storing', 'urgent', 'lbk'], ['vervang', 'motor', 'lbk'], ['hz', 'storing', 'ventilatie'], ['iv', 'lbk', 'storing'], ['iv', 'lbk', 'storing'], ['ra', 'ventilatie', 'defect'], ['ev', 'storing', 'ventilatiesystem'], ['iv', 'ventilatie', 'storing', 'inbr', 'install'], ['iv', 'ventilatie', 'storing', 'inbr', 'install'], ['jb', 'kapp', 'klapper', 'dak', 'ventilatie'], ['ra', 'lbk', 'storing'], ['mp', 'plafond', 'ventilatie', 'maakt', 'tikkend', 'geluid'], ['luchtventilatie', 'werkt', 'blaast', 'warm', 'lucht'], ['luchtventilatie', 'werkt', 'blaast', 'warm', 'lucht'], ['storing', 'ventilatiesystem'], ['lekkag', 'ventilatiesystem'], ['storing', 'ventilatiesystem'], ['daklekkag', 'lbk'], ['daklekkag', 'los', 'afdekplat', 'ventilatieunit'], ['storing', 'ventilatiesystem'], ['ventilatiesystem', 'voert', 'warm', 'lucht', 'af'], ['storing', 'ventilatiesystem'], ['storing', 'ventilatiesystem'], ['lbk', 'geeft', 'urgent', 'storing', 'vuilfilter'], ['mp', 'lbk', 'storing'], ['mp', 'opnieuw', 'storing', 'luchtbehandelingssystem'], ['snaarbreuk', 'lbl', 'defect', 'buitenluchtklep'], ['lbk'], ['tennet', 'storing', 'airco', 'lbk', 'server', 'ruimt'], ['central', 'hal', 'erg', 'warm', 'lbk', 'nazien'], ['vorstthermostat', 'lbk', 'nakijk', 'stat', 'hand'], ['lekkag', 'afzuigventilatie', 'dak'], ['vuilfilter', 'lbk', 'b'], ['storing', 'bevocht', 'lbk', 'gebouw', 'c'], ['storing', 'bevocht', 'lbk', 'gebouw', 'c', 'hog'], ['storing', 'stoombevochtiger', 'gebouw', 'c'], ['storing', 'bevocht', 'lbk', 'gebouw', 'c'], ['storing', 'bevocht', 'lbk', 'sob091479', 'gebouwc', 'verd'], ['gbs', 'melding', 'lbk', 'hog'], ['max', 'rv', 'lbk24c'], ['lbk', 'bouwdel', 'b', 'werking', 'goed'], ['afzuigventilator', 'storing'], ['storing', 'bevocht', 'lbk', 'gebouw', 'c'], ['vorstthermostat', 'lbk', 'storing'], ['storing', 'lbk'], ['storing', 'warmtewiel'], ['storing', 'algemen', 'ventilatie', '46a'], ['filter', 'aanzuigkanal', '625pdt3', 'luchtbkleinezal'], ['geluidsklacht', 'ventilatiesystem'], ['jb', 'ventilatie', 'maakt', 'lawaai'], ['mechanisch', 'ventilatiemachin', 'geeft', 'melding'], ['testbon', 'ventilatie', 'maakt', 'lawaai'], ['problem', 'frequentieregelar', 'tbvlbk', 'dak'], ['storing', 'lbk'], ['koeling', 'lbk', 'koelt'], ['nazien', 'storing', 'luchtbehandelingskast'], ['ventilatie', 'storing'], ['kanal', 'lbk', 'gescheurd', 'drukval', 'naa'], ['scheur', 'kanal', 'lbk'], ['iv', 'stoominlat', 'lbk', 'lekt'], ['mp', 'hoofdkanal', 'lbk2', 'del', 'opengescheurd'], ['stoominlat', 'lbk', 'lekt', 'lan', 'zie', 'opdr', 'j'], ['iv', 'storing', 'stoombevochtiger', 'afspr', 'scharf'], ['iv', 'storing', 'stoombevochtiger', 'afspr', 'scharf'], ['storing', 'stoombevochtiger', 'bouwdel', 'a'], ['vervang', 'drainpomp', 'stoombevochtiger'], ['jb', 'splitunit', 'geeft', 'storingscod', 'e3'], ['jb', 'splitunit', 'geeft', 'storingscod', 'e3'], ['jb', 'splitunit', 'blaast', 'koud', 'lucht'], ['jb', 'splitunit', 'blaast', 'koud', 'lucht'], ['jb', 'warmtewiel', 'stat', 'stil'], ['jb', 'warmtewiel', 'stat', 'stil'], ['storing', 'splitunit', 'serverruimt', 'e3', 'hd', 'stg'], ['storing', 'splitunit'], ['storing', 'frequentieregelar', 'warmtewiel', 'bwd', 'a'], ['snar', 'ventilator', 'afgebrok', 'lbk'], ['storing', 'vorstthermostat', '1ta1'], ['storing', 'lbk', 'bg'], ['urgent', 'storing', 'ventilatie'], ['instell', 'lbk', 'nakijk'], ['vervang', 'filter', 'lokal', 'buitenl', 'zet'], ['dak', 'circulatiepomp', 'lbk', 'storing'], ['luchtbehandelingskast', 'controler', 'verdiep'], ['lbk', 'nieuwbouw', 'storing', 'warmt'], ['lbk', 'nieuwbouw', 'storing', 'ventilatie'], ['storing', 'lbk', 'wtw1', 'wtw4'], ['test', 'bmc', 'komt', 'toevoer', 'lbk', 'keuk'], ['weinig', 'lucht', 'vanuit', 'ventilatiesystem', 'gebouw'], ['luchtbehandelingssytem', 'geeft', 'vuilfiltermeld'], ['aantal', 'dag', 'urgent', 'storing', 'lbk', 'geb', 'a'], ['filter', 'airco', 'ruimt', 'secretariaat', 'vervang'], ['spoed', 'ventilatiesystem', 'storing'], ['ventilatie', 'blaast', 'koud', 'lucht', 'ruimt', 'rl116'], ['nazien', 'koelmachin', 'ventilatie'], ['ventilatiestor'], ['iv', 'lekkag', 'luchtbehandelingssystem'], ['mp', 'lekkag', 'koker', 'lbk'], ['ra', 'storing', 'lbk', 'buit', 'werking'], ['iv', 'lbk', 'stat', 'koud'], ['mp', 'ventilatiesystem', 'maakt', 'lawaai'], ['mp', 'ventilatiesystem', 'maakt', 'lawaai'], ['iv', 'lbk', 'stat', 'koud'], ['nazien', 'inbel', 'menegra', 'lbk'], ['schietban', 'geeft', 'storing', 'middenfilter'], ['lbk', 'gbs', 'pc', 'doet', 'nik'], ['lekkag', 'lbk'], ['lekkag', 'lbk'], ['mp', 'urgent', 'lampj', 'lbk', 'brandt', 'afspr'], ['geluidsklacht', 'ventilatiekast'], ['filter', 'wtw', 'unit', 'erg', 'vies'], ['display', 'reinig', 'filter', 'sommig', 'kamer', 'erg', 'warm'], ['ventilator', 'afzuigvent', 'dak', 'maakt', 'lawaai'], ['ventilator', 'lbk', 'maakt', 'herrie'], ['vervolgactie', 'm', 'r', 'lbk', 'kantor', 'snaarbreuk'], ['vervolgactie', 'm', 'r', 'systemair', 'kast', 'warmtewiel'], ['storing', 'toevoerventilator'], ['storing', 'warmtewiel', 'lbk', 'kantor'], ['lbk', 'geblokkeerd', 'wko'], ['storing', 'lbk', 'geblok', 'kwo'], ['lbk', 'geblokkeerd'], ['vorstthermostat', 'lbk', 'a'], ['drukverschil', 'hog', 'zakkenfilter'], ['expansieauto', 'condensor'], ['drukverschil', 'lag', 'zakkenfilter'], ['ketel', 'storing', 'vorst'], ['luchtbehandel', 'snaarbreuk'], ['snaarbreuk', 'afzuigvent', 'lbk', 'rk3', 'os4'], ['ketel', 'storing', 'vorst'], ['afzuigventilator'], ['snaarbreuk', 'afzuigvent', 'os', 'lbk'], ['snaarbreuk', 'afzuigvent'], ['cp', 'zakfilter', 'cv'], ['temperatur', 'condensor', 'wp', 'hog'], ['circpomp', 'condensor', 'warmtepomp', '01cp01'], ['wilo', 'pomp', 'cp', 'zakfilter', 'cv', 'dsa', 'alarm'], ['lekkag', 'vanuit', 'lbk'], ['reinig', 'filter', 'luchtgordijn'], ['storing', 'fancoilunit', 'serverruimt'], ['ra', 'flink', 'lekkag', 'luchtkanal', 'lbk', 'ok3'], ['storing', 'vorstthermostat'], ['lekkag', 'condensafvoer', 'ketel'], ['jh', 'condensafvoer', 'ketel', 'rk1', 'stroomt'], ['splitunit', 'stan', 'storing', 'temp'], ['splitunit', 'stan', 'storing', 'temp'], ['vervang', 'ventilatormotor'], ['reinig', 'condensor'], ['reinig', 'condensor'], ['lekkag', 'condensafvoer', 'airco'], ['splitunit', 'geeft', 'sc', 'f3', 'display'], ['vervang', 'ventilator', 'condensor', 'computair'], ['lekkag', 'cv', 'ventilatie', 'leiding', 'magazijn'], ['fancoilunit', 'blaast', 'warm', 'lucht'], ['gsk', 'transportpomp', 'condensor', 'wp'], ['reinig', 'deelstroomfilter'], ['storing', 'lbk'], ['storing', 'vorstthermostat', '310ts1', 'aangesprok'], ['storing', 'vorstthermostat', '310ts1', 'aangesprok'], ['vorstthermostat', 'aangesprok'], ['onz', 'nordman', 'stoombevochtiger', 'gev', 'wer'], ['onz', 'nordman', 'stoombevochtiger', 'gev', 'wer'], ['onz', 'nordman', 'stoombevochtiger', 'gev', 'wer'], ['jvo', 'filter', 'all', 'plafondunit', 'reinig'], ['iv', 'noordman', 'stoombevochtiger', 'storing'], ['iv', 'noordman', 'stoombevochtiger', 'storing'], ['jo', 'storing', 'stoombevochtiger'], ['jo', 'storing', 'stoombevochtiger'], ['tijdelijk', 'lbk', 'blaast', 'vuil', 'ruimtes'], ['filterdoek', 'plaats', 'rooster', 'stuurhuis'], ['mp', 'storing', 'lbk', 'nr'], ['ra', 'storing', 'hitachi', 'machin', 'condensor', 'reinig'], ['ventilator', 'defect', 'e', 'filter', 'lsr'], ['storing', 'condensor'], ['warmtewiel', 'storing', 'lbk'], ['warmtewiel', 'storing', 'lbk'], ['lekkag', 'koelsectie', 'lbk'], ['storing', 'lbk'], ['deurtjes', 'lbk', 'af', 'gewaaid'], ['lbk', 'instor', 'pakhuis'], ['lbk', 'uitgevall'], ['warmtewiel', 'draaid'], ['lbk', 'warmtewiel', 'afgebrok'], ['lekkag', 'waarschijn', 'afkomst', 'lbk'], ['storingslampjes', 'lbk', 'brand'], ['vermoed', 'lbk', 'uitgevall'], ['storing', 'lbk', 'snaarbreuk'], ['erg', 'het', 'unit', 'nazien', 'werking', 'fancoil', 'unit'], ['fancoil', 'unit', 'werkt', 'behor'], ['vorstthermostat', 'aangesprok'], ['vorst', 'thermostat', 'lbk', 'av', 'huis', 'kadan'], ['fancoilunit', 'ruimt', 'blaast', 'allen', 'koud', 'lucht'], ['vorstthermostat'], ['storing', 'ventilatiesystem'], ['inblaastemperatur', 'lbk', 'stabiel'], ['airco', 'unit', 'stat', 'lek', 'fancoilunit'], ['storing', 'lbk', 'wko', 'system', 'koel', 'instell'], ['koeling', 'werkt', 'lbk', 'storing', 'urgent'], ['vorsthermostat', 'aangesprok'], ['ventilatie', 'lijkt', 'werk', 'luchtzak', 'slap'], ['fancoilunit', 'rammelt'], ['zoomer', 'af', 'luchtbehandelingskast', 'urgent', 'storing'], ['motvlieg', 'fancoilunit', 'unit'], ['filter', 'verpulvert', 'unit'], ['fancoilunit', 'koelt', 'unit', 'nieuw', 'verhur'], ['lekkag', 'fancoil', 'unit'], ['lbk', 'storing', 'urgent', 'aangegev'], ['fancoilunit', 'werkt'], ['fancoilunit', 'lekt', 'filmstudio', 'thv', 'keukentj'], ['lbk', 'uitgevall', 'pakhuis'], ['filter', 'secundairenet', 'loopt', 'volverwarm'], ['secundair', 'filter', 'trek'], ['lekkag', 'spor', 'primair', 'filter'], ['primair', 'filter', 'lijkt', 'verstopt', 'temp', 'problem'], ['lekkag', 'pakking', 'vuilfilter', 'primair', 'zijd'], ['koud', 'lucht', 'uitgeblaz', 'lbk'], ['vervuil', 'filter', 'nazien'], ['storing', 'luchtbeh', 'filter', 'afzuigkanal'], ['storing', 'luchtbeh', 'filter', 'afzuigkanal'], ['storing', 'lbk'], ['ventilatie', 'problem'], ['vervang', 'filter', 'schietban'], ['mp', 'storing', 'lbk', 'grad', 'schietban'], ['jh', 'storing', 'lbk', 'schietban'], ['mp', 'storing', 'lbk', 'grad', 'schietban'], ['ra', 'snaarbreuk', 'ventilatiebak'], ['vervang', 'lds', 'lbk', 'dojo'], ['mp', 'ventilatie', 'slang', 'lek', 'hoofdgebouw'], ['mp', 'lbk', 'storing'], ['mp', 'storing', 'lbk', 'schietban'], ['storing', 'ventilatie', 'priva'], ['snaarbreuk', 'lbk', 'recreatie'], ['lbk', 'hotel', 'melding', 'filter', 'vervuild', 'vervan'], ['snar', 'breuk', 'lbk', 'recreatie'], ['storing', 'lbk', 'recreatieruimt', 'snaarbreuk'], ['vervang', 'trafo', 'regel', 'ventilatie'], ['doorblaz', 'filter', 'luchtgordijn'], ['nazien', 'ventilatierooster', 'slaapkamer'], ['ventilatierooster', 'keuk', 'defect'], ['luchtbevochtiger', 'storing'], ['storing', 'warmtewiel', 'bevochtiger'], ['storing', 'warmtewiel', 'bevochtiger'], ['afzuigventilator', 'defect'], ['storing', 'ventilatie', 'spoelkeuk'], ['ra', 'storing', 'ventilatie', 'geb', 'scheldestrat'], ['ev', 'storing', 'airco', 'afwijk', 'lbk'], ['ev', 'ventilatie', 'douch', 'werkt', 'goed'], ['opties', 'ventilatie', 'badkamer', 'mwp2'], ['ev', 'ventilatie', 'bov', 'waterbed', 'blaast', 'koud', 'lucht'], ['storing', 'ventilatie', 'badkamer', 'studio'], ['ra', 'storing', 'ventilatie', 'toilet', 'benedenverdiep'], ['storing', 'ventilatie', 'toilet', 'benedenverdiep'], ['vervang', 'sensorset', 'ventilatie'], ['mp', 'control', 'ventilatiesystem', 'badkamer'], ['mp', 'inlaaslucht', 'temperatuuropnemer', 'lbk'], ['jb', 'ventilatie', 'uitgevall'], ['iv', 'lbk', 'lekt', 'bov', 'stopcontact'], ['ra', 'mech', 'ventilatie', 'maakt', 'herrie', 'app'], ['mp', 'reinig', 'ventilatiesystem', 'woning', 'c'], ['mp', 'klacht', 'ventilatiesystem', 'luchtkwaliteit'], ['mp', 'leiding', 'luchtbehandelingsunit', 'lekt'], ['mp', 'leiding', 'luchtbehandelingsunit', 'lekt'], ['ra', 'storing', 'ventilatie'], ['jb', 'filter', 'zwembad', 'defect'], ['v', 'snar', 'defect', 'afzuigventilator', 'dak'], ['mp', 'verwarm', 'werkt', 'mechanisch', 'ventilatie'], ['ra', 'spoed', 'ventilatiesystem', 'zwembad', 'uitgevall'], ['mp', 'ventilatie', 'kantor', 'blijft', 'continue', 'draai'], ['jh', 'storing', 'ventilatie'], ['vervang', 'cv', 'leiding', 'kanal', 'lbk'], ['jh', 'ventilatie', 'dop', 'defect'], ['mp', 'control', 'ventilatie', 'slaapkamer', 'miva', 'voorzijd'], ['mp', 'ventilatiesystem', 'werkt'], ['mp', 'ventilatie', 'afzuig', 'werkt'], ['jb', 'storing', 'ventilatie'], ['jh', 'roet', 'luchbehandelingkanal'], ['mp', 'roetdeeltjes', 'filter', 'zwembad'], ['jh', 'snar', 'breuk', 'lbk'], ['vervang', 'ventilatieschakelar', 'keuk'], ['wdb', 'vervang', 'ventilatieschakelar', 'keuk'], ['mp', 'ventilatiesystem', 'toilet', 'bened', 'ligt', 'los'], ['mp', 'ventilatiesystem', 'werkt'], ['storing', 'snaarbreuk'], ['jh', 'lbk', 'stat'], ['jh', 'ventilatiebak', 'mak', 'lawaai'], ['jh', 'ventilatie', 'system', 'woonkamer', 'kapot'], ['reinig', 'filter', 'airco', 'kantor'], ['mp', 'lekkag', 'condensafvoer', 'cv', 'ketel'], ['jh', 'ventilatiesystem', 'maakt', 'herrie'], ['jb', 'ventilatie', 'werkt'], ['ra', 'trilling', 'ventilatiesystem'], ['water', 'lbk', 'zwembad'], ['mp', 'ventilatie', 'climat', 'control', 'maakt', 'lawaai'], ['jh', 'druppel', 'ventilatie'], ['jh', 'druppel', 'ventilatie'], ['reparatie', 'luchtbevochtiger'], ['wdb', 'reparatie', 'luchtbevochtiger'], ['mp', 'piepend', 'geluid', 'ventilatie', 'ruimt', 'dagbestedi'], ['mp', 'lawaai', 'lbk'], ['jb', 'snar', 'stuk', 'ventilatie', 'ketelhuis'], ['jo', 'ventilatie', 'goed', 'all', 'douches', '1b'], ['afgescheurd', 'ventilatie', 'beugel', 'vervang'], ['control', 'vervuil', 'onderhoud', 'ventilatiesystem'], ['verwijder', 'afvoer', 'stoombevochtiger'], ['verwijder', 'afvoer', 'stoombevochtiger'], ['jg', 'ventilatie', 'system', 'maakt', 'lawaai', 'lager'], ['ventilatie', 'box', 'defect'], ['ventilatie', 'box', 'defect'], ['geluidsklacht', 'ventilatiesystem'], ['reparatie', 'lek', 'filterbocht', 'zwembad', 'spijkenis'], ['vervang', 'v', 'snar', 'lbk'], ['ventilatie', 'app', 'werkt'], ['ventilatie', 'werkt', 'slaapkamer', 'badkamer', 'app'], ['lbk', 'airco', 'uitgevall'], ['geluidsoverlast', 'ventilatiesystem'], ['ventilatie', 'maakt', 'lawaai'], ['slecht', 'ventilatie', 'kamer', 'karin', 'wilco'], ['nazien', 'itho', 'ventilatiebox'], ['ventilatie', 'luchtrooster', 'badkamer'], ['studio', 'werkt', 'ventilatie'], ['ventilatie', 'woning', 'werkt', 'goed', 'blaast', 'viez'], ['ventilatie', 'bov', 'slaapkamer', 'ram', 'eruit', 'gevall'], ['storing', 'ventilatie', 'kamer'], ['afzuigventilator', 'maakt', 'lawaai'], ['luchtklep', 'zwembadinstallatie', 'lekt'], ['ventilatie', 'speelkamer', 'b', 'stanimirovic'], ['ventilatiesystem', 'hel', 'pand', 'werkt'], ['lekkag', 'zwembadfilter'], ['ventilatie'], ['lekkag', 'luchtbehandelingssystem'], ['ventilatie', 'hel', 'gebouw', 'doet'], ['filter', 'zwembad'], ['filter', 'zwembad', 'stan', 'wer', 'storing'], ['lbk', 'koeling', 'werkt', 'gebouw'], ['nazien', 'ventilatie', 'system', 'gebouw', 'scheldestrat'], ['luchtventilatiesystem', 'geeft', 'rar', 'geur', 'af'], ['luchtfiltersystem', 'werkt'], ['mech', 'ventilatie', 'badkamer', 'bovenverdiep', 'werkt', 'ni'], ['vanuit', 'wekelijk', 'rond', 'zwembad', 'storing', 'lbk'], ['komt', 'koud', 'wind', 'ventilatie'], ['nazien', 'stoombevochtiger'], ['ventilatiesystem', 'maakt', 'herrie'], ['ventilatiesystem', 'werkt', 'optimal'], ['hard', 'brom', 'denk', 'ventilatie', 'system'], ['geluidsklacht', 'etag', 'wss', 'ventilatie'], ['ventilatiesystem', 'bov', 'toillet', 'maakt', 'herrie'], ['lekkag', 'plafond', 'waarschijn', 'ventilatie'], ['ketel', 'schakelt', 'ventilatie', 'zer', 'slecht'], ['ventilatie', 'werkt', 'toilet'], ['piepend', 'geluid', 'ventilatie', 'app', '8a'], ['storing', 'lbk'], ['geluidsoverlast', 'ventilatiesystem'], ['ventilatiesystem', 'maakt', 'hard', 'bonkend', 'geluid'], ['komt', 'rar', 'geur', 'ventilatie', 'system'], ['problem', 'ventilatie'], ['ventilatie', 'uitslaapkamer', 'tandartskamer', 'werkt'], ['ventilatie', 'lijkt', 'draai', 'muziekruimt'], ['ventilatiesystem', 'mondhygienstekamer'], ['spoed', 'ventilatie', 'uitgevall'], ['ventilatie', 'doet'], ['ventilatie', 'system', 'werkt', 'lokal'], ['stopcontact', 'del', 'defect', 'ventilatie'], ['ventilatiesystem', 'geeft', 'storing', 'debiet', 'verlag'], ['ventilatiesystem', 'geeft', 'storing', 'debiet', 'verlag'], ['storingslampjes', 'lbk', 'brand'], ['mp', 'hoofdkanal', 'lbk', 'gescheurd'], ['jb', 'hoofdkanal', 'lbk', 'opnieuw', 'gescheurd'], ['jb', 'hoofdkanal', 'lbk', 'opnieuw', 'gescheurd'], ['mp', 'pomp', 'stoompotfilter', 'pomp', 'lek'], ['mp', 'lbk2', 'hoofdkanal', 'toevoer', 'opengescheurd'], ['jb', 'bocht', 'lbk2', 'del', 'losgescheurd'], ['jb', 'lbk', 'hoofdkanal', 'opnieuw', 'bocht', 'gescheurd'], ['mp', 'overdruk', 'vtgm', 'toevoerventilator', 'lbk', 'ner'], ['mp', 'overdruk', 'vtgm', 'toevoerventilator', 'lbk', 'ner'], ['mp', 'temp', 'loopt', 'lbk', 'alarm'], ['ra', 'inregel', 'lbk'], ['mp', 'prio', 'perslucht', 'filterstrat', 'alarm'], ['prio', 'perslucht', 'filterstrat', 'alarm'], ['jb', 'circulatie', 'pomp', 'cp1102', 'a', 'lbk'], ['diver', 'storing', 'ivm', 'uitzet', 'lbk'], ['stroomstor', 'lbk', 'intercom', 'uitgevall'], ['nazien', 'regel', 'lbk', 'mbt', 'luchtvocht'], ['nakoeler', 'lbk', 'storing'], ['stroomuitval', 'lbk', 'goed', 'bedrijf'], ['wilo', 'pomp', 'lbk', 'lekt', 'glycol'], ['warm', 'wer', 'bevocht', 'lbk', 'onvoldo'], ['lbk', 'uitgevall', 'reset'], ['beeldplaatj', 'lbk', 'zwart'], ['lbk', 'blaast', 'gr', 'ipv', 'gevraagd', 'grad'], ['storing', 'lbk', 'geeft', 'waardes', 'druk'], ['lbk', 'valt'], ['oh20', 'vervolgactie', 'filterdeur', 'inblaaskant', 'lbk2', 'lekt'], ['filterstrat', 'stan', 'alarm'], ['storing', 'lbk'], ['lab', 'afzuig', 'komt', 'uitval', 'lbk4'], ['lbk1401', 'luchtbehandel', 'prio'], ['lbk', 'hog'], ['control', 'afzuigventilator', 'keuk'], ['luchtbehandelingskast', 'uitgevall'], ['inblaast', 'temperatur', 'lbk', 'hog'], ['diver', 'lbk', 'storing'], ['min', 'alarmer', 'lbk', 'mak', 'up', 'rk'], ['lbk', 'productie'], ['lbk', 'mak', 'up', 'inblaastemp', 'hog', 'ut'], ['lbk', 'storing'], ['vorstthermostat', 'aangesprok'], ['vervuild', 'plafondplat', 'vervang', 'thv', 'ventilatie'], ['klacht', 'mbt', 'luchtbehandelingssystem'], ['lbk', 'storing'], ['filter', 'lbk', 'hotel', 'vervuild'], ['lbk', 'schietban', 'uitgevall'], ['lbk', 'restaurant', 'omgev', 'snaarbreuk'], ['pomp', 'defect', 'lbk', '100m', 'schietban'], ['aanpass', 'regel', 'lbk'], ['ventilatie', 'restaurant', 'nazien'], ['storing', 'lb', 'vorstthermostat', 'oefendorp', 'hoofdgebou'], ['storing', 'lbk', 'rok', 'blaast', 'aula', 'crematorium'], ['alarm', 'filter', 'aanzuig', 'luchtbehandel', 'rk11'], ['lbk', 'sted', 'storing', 'aula', 'baronie'], ['urgent', 'storing', 'lbk', 'regelkast'], ['storing', 'urgent', 'luchtbehandelingskast'], ['lbk', 'maakt', 'lawaai'], ['lbk', 'blijft', 'storing', 'gev'], ['wtw', 'unit', 'lbk', 'dak', 'geeft', 'storing'], ['splitunit', 'serverruimt', 'lekt'], ['storing', 'ventilatiesystem', 'ventilator', 'geblokkeerd'], ['storingslampj', 'brand', 'luchtfilter'], ['ventilatiesystem', 'slag'], ['storing', 'ventilatie', 'geblokkeerd'], ['filtermeld', 'unit'], ['storing', 'wtw', 'ventilatie', 'system'], ['ventilatie', 'blaast'], ['wko', 'installatie', 'ventilatie', 'gesprong'], ['mechanisch', 'ventilatie', 'werkt', 'vreemd', 'geluid'], ['wko', 'individueel', 'kapot', 'filter', 'vervang'], ['afzuigsystem', 'maakt', 'lawaai', 'vervang', 'filter'], ['lawaai', 'mechanisch', 'ventilatie'], ['wederom', 'storing', 'mechanisch', 'ventilatie'], ['mechanisch', 'ventilatie', 'box', 'zuigt'], ['melding', 'filter', 'vernieuw'], ['mechanisch', 'ventilatie', 'blijft', 'lang', 'draai'], ['storing', 'filter', 'wtw', 'unit'], ['wp', 'doet', 'filter', 'verslet', 'aldus', 'td'], ['knipper', 'lampj', 'filter', 'wtw', 'unit', 'vervang'], ['storing', 'filter', 'wtw', 'unit'], ['gbs', 'storing', 'w', 'installatie', 'hog', 'urgent', 'warmtewiel'], ['storing', 'warmtewiel', 'lbk'], ['warmt', 'wiel', 'lbk', 'gemeentschapp', 'ruimt'], ['lbk', '15tt2', 'os', 'reteurtemperateur', 'transport', 'hog'], ['snaarbreuk', 'toevoerventilator', 'lbk'], ['w', 'installatie', 'urgent', 'snaarbreuk', 'lbk', 'zorg'], ['storing', 'luchtbehandelingskast'], ['muff', 'lucht', 'ventilatiesystem'], ['lbk', 'stat', 'super', 'warm', 'schol'], ['filter', 'verstopt', 'warmtepomp'], ['lekkag', 'condensafvoer', 'rookgascollector'], ['vanaf', 'luchtventilatie', 'werkt'], ['lekkag', 'luchtbehandelingsinstallatie', 'dak'], ['buitenlucht', 'filter', 'lbk', 'storing'], ['lbk', 'gewelvenzal', 'blaast', 'hard'], ['ventilatie', 'uitgevall'], ['storing', 'lbk', 'gymzal', 'urgent'], ['storing', 'lbk'], ['storing', 'verlicht', 'wielerexperienc'], ['ventilatie', 'maakt', 'rammel', 'geluid'], ['lbk', 'geeft', 'storing', 'urgent'], ['lbk', 'geeft', 'storing', 'urgent'], ['lbk', 'storing', 'tijden', 'wzh'], ['lift', 'sluit', 'aanpass', 'lbk'], ['ventilatie', 'verdiep', 'werkt', 'goed'], ['koeling', 'lbk', 'doet'], ['ventilatie', 'stat', 'vol', 'blaz'], ['lokal', 'wederom', 'geluidsoverlast', 'ventilatiesystee'], ['lbk', 'inblaastemp'], ['toevoerventilator', 'lbk3', '13tv01'], ['vorstthermostat', 'lbk2'], ['lbk', 'storing'], ['lekkag', 'aanvoer', 'lbk', 'etag', 'verv', 'afsluiter'], ['tr', 'ventilatie', 'status', 'bak', 'ventilator', 'storing'], ['tikkend', 'geluid', 'vanuit', 'ventilatie', 'etag'], ['lbk', 'zien', 'ivm', 'sto'], ['storing', 'lbk', 'bouwdel', 'b'], ['lbk', 'controler', 'blaast', 'warm', 'lucht'], ['lbk', 'dak', 'gebouw', 'a', 'defect', 'motor', 'doorgebrand'], ['uittred', 'temp', 'condensor'], ['storing', 'lbk', 'leshuis', 'co2', 'melder', 'hog']]\n"
     ]
    }
   ],
   "source": [
    "# Split transaction strings into lists\n",
    "transactions = df_so['SO_Omschrijving'].apply(lambda t: t.split(' '))\n",
    "\n",
    "# Convert DataFrame column into list of strings\n",
    "transactions_ventilation = list(transactions)\n",
    "\n",
    "# Print the list of transactions\n",
    "print(transactions_ventilation)"
   ]
  },
  {
   "cell_type": "code",
   "execution_count": null,
   "metadata": {
    "colab": {
     "base_uri": "https://localhost:8080/"
    },
    "id": "-srjsdaLcaJL",
    "outputId": "8301ec7d-fd3e-41b3-a81a-e5e1be0e3aa7"
   },
   "outputs": [
    {
     "name": "stderr",
     "output_type": "stream",
     "text": [
      "IOPub data rate exceeded.\n",
      "The notebook server will temporarily stop sending output\n",
      "to the client in order to avoid crashing it.\n",
      "To change this limit, set the config variable\n",
      "`--NotebookApp.iopub_data_rate_limit`.\n",
      "\n",
      "Current values:\n",
      "NotebookApp.iopub_data_rate_limit=1000000.0 (bytes/sec)\n",
      "NotebookApp.rate_limit_window=3.0 (secs)\n",
      "\n"
     ]
    }
   ],
   "source": [
    "# Define the set of groceries\n",
    "flattened = [i for t in transactions_ventilation for i in t]\n",
    "descriptions = list(set(flattened))\n",
    "\n",
    "# Generate all possible rules from groceries list\n",
    "rules = list(permutations(descriptions, 2))\n",
    "\n",
    "# Print the set of rules\n",
    "print(rules)\n",
    "\n",
    "# Print the number of rules\n",
    "print(len(rules))"
   ]
  }
 ],
 "metadata": {
  "colab": {
   "provenance": []
  },
  "kernelspec": {
   "display_name": "Python 3 (ipykernel)",
   "language": "python",
   "name": "python3"
  },
  "language_info": {
   "codemirror_mode": {
    "name": "ipython",
    "version": 3
   },
   "file_extension": ".py",
   "mimetype": "text/x-python",
   "name": "python",
   "nbconvert_exporter": "python",
   "pygments_lexer": "ipython3",
   "version": "3.11.4"
  }
 },
 "nbformat": 4,
 "nbformat_minor": 1
}
